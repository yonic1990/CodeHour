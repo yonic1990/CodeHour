{
 "cells": [
  {
   "cell_type": "code",
   "execution_count": 28,
   "metadata": {},
   "outputs": [],
   "source": [
    "import numpy as np\n",
    "import pickle\n",
    "import matplotlib.pyplot as plt\n",
    "import os"
   ]
  },
  {
   "cell_type": "markdown",
   "metadata": {},
   "source": [
    "# Code Hour - Useful Python Practices\n",
    "We'll cover some useful and neat buildin features in python.\n",
    "Some will be useful in everyday work, while other are more \"acquired taste\"."
   ]
  },
  {
   "cell_type": "markdown",
   "metadata": {},
   "source": [
    "## List Comprehension\n",
    "#### *Create lists with elegance*\n",
    "\n",
    "Why should we use list comprehension instead of <mark>for</mark> loops?\n",
    "\n",
    "1) It's (slightly) faster!\n",
    "\n",
    "2) Better code readability\n",
    "\n",
    "3) Multi-purpose - mapping, filtering, list creation\n",
    "\n",
    "4) It's the \"Pythonic\" way (impress your family and friends!)"
   ]
  },
  {
   "cell_type": "markdown",
   "metadata": {},
   "source": [
    "Suppose, we want to separate the letters of the word <mark>strawlab</mark> and add the letters as items of a list. The list should look like that at the end:\n",
    "\n",
    "['s', 't', 'r', 'a', 'w', 'l', 'a', 'b']\n",
    "\n",
    "The \"noob\" way would be to write a for loop:"
   ]
  },
  {
   "cell_type": "code",
   "execution_count": 2,
   "metadata": {},
   "outputs": [
    {
     "name": "stdout",
     "output_type": "stream",
     "text": [
      "['s', 't', 'r', 'a', 'w', 'l', 'a', 'b']\n"
     ]
    }
   ],
   "source": [
    "lab_letters = []\n",
    "\n",
    "for letter in 'strawlab':\n",
    "    lab_letters.append(letter)\n",
    "\n",
    "print(lab_letters)"
   ]
  },
  {
   "cell_type": "markdown",
   "metadata": {},
   "source": [
    "List comprehension will allow us to make is in one line:"
   ]
  },
  {
   "cell_type": "code",
   "execution_count": 4,
   "metadata": {},
   "outputs": [
    {
     "name": "stdout",
     "output_type": "stream",
     "text": [
      "['s', 't', 'r', 'a', 'w', 'l', 'a', 'b']\n"
     ]
    }
   ],
   "source": [
    "lab_letters = [letter for letter in 'strawlab' ]\n",
    "print(lab_letters)"
   ]
  },
  {
   "cell_type": "markdown",
   "metadata": {},
   "source": [
    "#### Syntax of list comprehension\n",
    "\n",
    "<span style=\"font-size:1.5em\"> [<span style=\"background-color: #A9F5F2\">expression</span> for <span style=\"background-color: #D0F5A9\">item</span> in <span style=\"background-color: #F5A9F2\">list</span>]</span>\n",
    "\n",
    "\n",
    "\n",
    "Another example - create a list which is the square of the following list <mark>[1,2,3,4,5]</mark>"
   ]
  },
  {
   "cell_type": "code",
   "execution_count": 10,
   "metadata": {},
   "outputs": [
    {
     "name": "stdout",
     "output_type": "stream",
     "text": [
      "This is the for loop result:\n",
      " [1, 4, 9, 16, 25]\n",
      "This is the list comprehension result: \n",
      " [1, 4, 9, 16, 25]\n"
     ]
    }
   ],
   "source": [
    "# The for loop version\n",
    "l = [1,2,3,4,5]\n",
    "squareList = []\n",
    "for num in l:\n",
    "    squareList.append(num**2)\n",
    "print('This is the for loop result:\\n', squareList)\n",
    "\n",
    "# The list comprehension version\n",
    "l = [1,2,3,4,5]\n",
    "squareList = [num**2 for num in l]\n",
    "print('This is the list comprehension result: \\n',squareList)\n"
   ]
  },
  {
   "cell_type": "markdown",
   "metadata": {},
   "source": [
    "### Adding Conditionals\n",
    "\n",
    "We can create a new list from an old one AND filter for what we need!\n",
    "\n",
    "Syntax:\n",
    "\n",
    "<span style=\"font-size:1.5em\"> [<span style=\"background-color: #A9F5F2\">expression</span> for <span style=\"background-color: #D0F5A9\">item</span> in <span style=\"background-color: #F5A9F2\">list</span> if <span style=\"background-color:#F6CECE\">condition</span>]</span>\n",
    "\n",
    "For example - create a list which is the square of the **even** numbers in\n",
    "<mark>[1,2,3,4,5,6,7,8]</mark>"
   ]
  },
  {
   "cell_type": "code",
   "execution_count": 13,
   "metadata": {},
   "outputs": [
    {
     "name": "stdout",
     "output_type": "stream",
     "text": [
      "This is the for loop result: \n",
      " [4, 16, 36, 64]\n",
      "This is the list comprehension result: \n",
      " [4, 16, 36, 64]\n"
     ]
    }
   ],
   "source": [
    "# The for loop version\n",
    "l = [1,2,3,4,5,6,7,8]\n",
    "newlist = []\n",
    "for num in l:\n",
    "    if num%2==0:\n",
    "        newlist.append(num**2)\n",
    "print('This is the for loop result: \\n',newlist)\n",
    "\n",
    "# list comprehension version\n",
    "l = [1,2,3,4,5,6,7,8]\n",
    "newlist = [num**2 for num in l if num%2==0]\n",
    "print('This is the list comprehension result: \\n' , newlist)"
   ]
  },
  {
   "cell_type": "markdown",
   "metadata": {},
   "source": [
    "You can also use <mark>else</mark>\n",
    "In that case the syntax is a bit different :\n",
    "\n",
    "<span style=\"font-size:1.5em\"> [<span style=\"background-color: #A9F5F2\">expression</span> if <span style=\"background-color:#F6CECE\">condition</span> else <span style=\"background-color: #A9F5F2\">expression</span> for <span style=\"background-color: #D0F5A9\">item</span> in <span style=\"background-color: #F5A9F2\">list</span>]</span>"
   ]
  },
  {
   "cell_type": "code",
   "execution_count": 19,
   "metadata": {},
   "outputs": [
    {
     "name": "stdout",
     "output_type": "stream",
     "text": [
      "Power of two for even numbers, just the number for odd ones: \n",
      " [1, 4, 3, 16, 5, 36, 7, 64]\n"
     ]
    }
   ],
   "source": [
    "l = [1,2,3,4,5,6,7,8]\n",
    "newlist = [num**2 if num%2==0 else num for num in l]\n",
    "print('Power of two for even numbers, just the number for odd ones: \\n' , newlist)"
   ]
  },
  {
   "cell_type": "markdown",
   "metadata": {},
   "source": [
    "#### Nested For Loops\n",
    "\n",
    "We can create a list using list comprehension <mark>for</mark> nested for loops. For example a <mark>for</mark> loop which trasnposes a matrix:"
   ]
  },
  {
   "cell_type": "code",
   "execution_count": 23,
   "metadata": {},
   "outputs": [
    {
     "name": "stdout",
     "output_type": "stream",
     "text": [
      "This is the for loop result:\n",
      " [[1, 5, 9], [2, 6, 10], [3, 7, 11], [4, 8, 12]]\n"
     ]
    }
   ],
   "source": [
    "matrix = [\n",
    "        [1, 2, 3, 4],\n",
    "        [5, 6, 7, 8],\n",
    "        [9, 10, 11, 12]]\n",
    "\n",
    "# for loop version\n",
    "transposed=[]\n",
    "for i in range(4):\n",
    "    transposed_row = []\n",
    "    \n",
    "    for row in matrix:\n",
    "        transposed_row.append(row[i])\n",
    "    transposed.append(transposed_row)\n",
    "print('This is the for loop result:\\n',transposed)"
   ]
  },
  {
   "cell_type": "markdown",
   "metadata": {},
   "source": [
    "As an intermediate step:"
   ]
  },
  {
   "cell_type": "code",
   "execution_count": 25,
   "metadata": {},
   "outputs": [
    {
     "name": "stdout",
     "output_type": "stream",
     "text": [
      "[[1, 5, 9], [2, 6, 10], [3, 7, 11], [4, 8, 12]]\n"
     ]
    }
   ],
   "source": [
    "transposed = []\n",
    "for i in range(4):\n",
    "    transposed.append([row[i] for row in matrix])\n",
    "print(transposed)"
   ]
  },
  {
   "cell_type": "markdown",
   "metadata": {},
   "source": [
    "And as list comprehension:"
   ]
  },
  {
   "cell_type": "code",
   "execution_count": 24,
   "metadata": {},
   "outputs": [
    {
     "name": "stdout",
     "output_type": "stream",
     "text": [
      "This is the list comp result: \n",
      " [[1, 5, 9], [2, 6, 10], [3, 7, 11], [4, 8, 12]]\n"
     ]
    }
   ],
   "source": [
    "# listcomp version\n",
    "transposed = [[row[i] for row in matrix] for i in range(4)]\n",
    "print('This is the list comp result: \\n', transposed)"
   ]
  },
  {
   "cell_type": "markdown",
   "metadata": {},
   "source": [
    "As a side note - the buildin zip() function would be the \"pythonic\" way of implementing it:"
   ]
  },
  {
   "cell_type": "code",
   "execution_count": 26,
   "metadata": {},
   "outputs": [
    {
     "data": {
      "text/plain": [
       "[(1, 5, 9), (2, 6, 10), (3, 7, 11), (4, 8, 12)]"
      ]
     },
     "execution_count": 26,
     "metadata": {},
     "output_type": "execute_result"
    }
   ],
   "source": [
    "list(zip(*matrix))"
   ]
  },
  {
   "cell_type": "markdown",
   "metadata": {},
   "source": [
    "### Exercise:"
   ]
  },
  {
   "cell_type": "code",
   "execution_count": null,
   "metadata": {},
   "outputs": [],
   "source": [
    "teststring = 'Find all of the words in a string that are less than 4 letters'\n",
    "# 1) Find all of the numbers from 1-1000 that are divisible by 7\n",
    "# 2) Find all of the numbers from 1-1000 that have a 3 in them\n",
    "# 3) Remove all of the vowels in teststring [make a list of the non-vowels]\n",
    "# 4) Find all of the words in teststring that are less than 4 letters\n",
    "# 5) Use a nested list comprehension to find all of the numbers from 1-1000 that \n",
    "#    are divisible by any single digit besides 1 (2-9)\n",
    "#    Hint: One of the listcomp should use boolean (True/False) to determine the divisibility of the number\n",
    "\n",
    "## Answers are at the end"
   ]
  },
  {
   "cell_type": "markdown",
   "metadata": {},
   "source": [
    "## Lambda Functions\n",
    "\n",
    "Lambda is a tool for building functions, or more precisely, for building function objects. \n",
    "Why do we need it?\n",
    "We dont! we can always use the <mark>def</mark> keyword.\n",
    "**But** in certain situations using lambda will be cleaner, faster, nicer.\n",
    "These situations are:\n",
    "1) The function is rather simple\n",
    "2) The function will only be used 2-3 times and only for a small patch of the code\n",
    "\n",
    "The structure is as follows:\n",
    "lambda arguments: expression\n",
    "\n",
    "\n",
    "<span style=\"font-size:1.5em\"> [<span style=\"background-color: #A9F5F2\">var_name</span> = <span style=\"background-color: #D0F5A9\"> lambda</span> <span style=\"background-color: #F5A9F2\">arguements</span> : <span style=\"background-color:#F6CECE\">expression</span>]</span>\n",
    "\n",
    "For example:"
   ]
  },
  {
   "cell_type": "code",
   "execution_count": 8,
   "metadata": {},
   "outputs": [
    {
     "name": "stdout",
     "output_type": "stream",
     "text": [
      "27.0\n",
      "81\n"
     ]
    }
   ],
   "source": [
    "# A function that multiplies a number by its square root\n",
    "example_func = lambda x: x*np.sqrt(x)\n",
    "print(example_func(9))\n",
    "\n",
    "# A function that takes two numbers and returns their squared sum\n",
    "example_func = lambda x,y : (x+y)**2\n",
    "print(example_func(4,5))"
   ]
  },
  {
   "cell_type": "markdown",
   "metadata": {},
   "source": [
    "Where can we use this?\n",
    "In combination with other buildin python functions"
   ]
  },
  {
   "cell_type": "markdown",
   "metadata": {},
   "source": [
    "## Filter(), Map() and Reduce()\n",
    "\n",
    "Three useful buildin functions. Allow us to write shorter, cleaner and more readable code.\n",
    "\n",
    "<mark>map()</mark> applies a function to all items in a list, returns a map object \n",
    "Syntax:\n",
    "map(function_to_apply, list_of_inputs)\n",
    "\n",
    "<mark>filter()</mark> ,as the name suggests, filters relevant items in list based on a boolean function\n",
    "Syntax:\n",
    "filter(func, iterable)\n",
    "\n",
    "<mark>reduce()</mark> applies function of **two arguments** cumulatively to the elements of an iterable, optionally starting with an initial argument, Syntax:\n",
    "reduce(func, iterable[, initial])\n",
    "\n",
    "### Together with the lambda option, these functions are a powerful tool for data manipulation and extraction"
   ]
  },
  {
   "cell_type": "code",
   "execution_count": 16,
   "metadata": {},
   "outputs": [
    {
     "name": "stdout",
     "output_type": "stream",
     "text": [
      "['ALFRED', 'TABITHA', 'WILLIAM', 'ARLA']\n",
      "[('a', 1), ('b', 2), ('c', 3), ('d', 4), ('e', 5)]\n",
      "[3.6, 5.58, 4.009, 56.2424, 9.01344, 32.00013]\n",
      "[4, 8]\n"
     ]
    }
   ],
   "source": [
    "## map() examples:\n",
    "\n",
    "# map() used with the buildin method of the string objects .upper which trasnform the string to\n",
    "# upper case letters only\n",
    "my_pets = ['alfred', 'tabitha', 'william', 'arla']\n",
    "uppered_pets = list(map(str.upper, my_pets))\n",
    "print(uppered_pets)\n",
    "\n",
    "# map() used with lambda.  implementing cumstom zip() function\n",
    "a = ['a', 'b', 'c', 'd', 'e']\n",
    "b = [1,2,3,4,5]\n",
    "results = list(map(lambda x, y: (x, y), a, b))\n",
    "print(results)\n",
    "\n",
    "# map() can utalize functions with multple arguements. For example round() takes two arguements -\n",
    "# the number, and how many decimals to round to\n",
    "circle_areas = [3.56773, 5.57668, 4.00914, 56.24241, 9.01344, 32.00013]\n",
    "result = list(map(round, circle_areas, range(1,7)))\n",
    "print(result)\n",
    "\n",
    "# map() can iterate on functions as well\n",
    "def square(x):\n",
    "        return (x**2)\n",
    "def cube(x):\n",
    "        return (x**3)\n",
    "funcs = [square, cube]\n",
    "value = map(lambda x: x(2), funcs)\n",
    "print(list(value))"
   ]
  },
  {
   "cell_type": "code",
   "execution_count": 26,
   "metadata": {},
   "outputs": [
    {
     "name": "stdout",
     "output_type": "stream",
     "text": [
      "[90, 76, 88, 81]\n",
      "['madam', 'anutforajaroftuna']\n"
     ]
    }
   ],
   "source": [
    "# filter() examples:\n",
    "scores = [66, 90, 68, 59, 76, 60, 88, 74, 81, 65]\n",
    "over_75 = list(filter(lambda x : x>75, scores))\n",
    "print(over_75)\n",
    "\n",
    "# palindrom detector\n",
    "dromes = (\"demigod\", \"rewire\", \"madam\", \"freer\", \"anutforajaroftuna\", \"kiosk\")\n",
    "palindromes = list(filter(lambda word: word == word[::-1], dromes))\n",
    "print(palindromes)"
   ]
  },
  {
   "cell_type": "markdown",
   "metadata": {},
   "source": [
    "It should be noted that much of the functionality of filter is buildin for numpy arrays:"
   ]
  },
  {
   "cell_type": "code",
   "execution_count": 32,
   "metadata": {},
   "outputs": [
    {
     "name": "stdout",
     "output_type": "stream",
     "text": [
      "90\n"
     ]
    }
   ],
   "source": [
    "scores = np.array([66, 90, 68, 59, 76, 60, 88, 74, 81, 65])\n",
    "over_75 =  scores[scores>75]\n",
    "print(over_75)"
   ]
  },
  {
   "cell_type": "code",
   "execution_count": 33,
   "metadata": {},
   "outputs": [
    {
     "name": "stdout",
     "output_type": "stream",
     "text": [
      "68\n"
     ]
    }
   ],
   "source": [
    "# reduce() examples:\n",
    "from functools import reduce\n",
    "numbers = [3, 4, 6, 9, 34, 12]\n",
    "def custom_sum(first, second):\n",
    "    return first + second\n",
    "result = reduce(custom_sum, numbers)\n",
    "print(result)"
   ]
  },
  {
   "cell_type": "markdown",
   "metadata": {},
   "source": [
    "## Pickle\n",
    "\n",
    "Not a buildin utility per se, but a nice way to save and retrieve data."
   ]
  },
  {
   "cell_type": "code",
   "execution_count": 8,
   "metadata": {},
   "outputs": [],
   "source": [
    "# Saving and loading lists, dictionaries, sets etc etc\n",
    "toPickle = {'Name': ['Jana','Max','Emine','Mike'],'Position':['Post-doc','Master','Master','Master']}\n",
    "with open('savedDict','wb') as file:\n",
    "    pickle.dump(toPickle,file)"
   ]
  },
  {
   "cell_type": "code",
   "execution_count": 10,
   "metadata": {},
   "outputs": [
    {
     "name": "stdout",
     "output_type": "stream",
     "text": [
      "There is no file :( \n"
     ]
    }
   ],
   "source": [
    "# lets delete toPickle\n",
    "del toPickle\n",
    "try:\n",
    "    print(toPickle['Name'][0])\n",
    "except:\n",
    "    print('There is no file :( ')"
   ]
  },
  {
   "cell_type": "code",
   "execution_count": 14,
   "metadata": {},
   "outputs": [
    {
     "name": "stdout",
     "output_type": "stream",
     "text": [
      "Jana , the  Post-doc ,is awesome\n"
     ]
    }
   ],
   "source": [
    "#lets load it back\n",
    "with open('savedDict','rb') as file:\n",
    "    outDict =pickle.load(file)\n",
    "\n",
    "print(outDict['Name'][0],', the ',outDict['Position'][0], ',is awesome')"
   ]
  },
  {
   "cell_type": "markdown",
   "metadata": {},
   "source": [
    "Even more useful, we can save matplotlib axes objects for future manipulation\n",
    "\n",
    "Here, after running a simulation for 3 days straight, I obtained the weight-velocity dependency of a turtle while skiing.\n",
    "I plot it for my presentation"
   ]
  },
  {
   "cell_type": "code",
   "execution_count": 20,
   "metadata": {},
   "outputs": [
    {
     "data": {
      "image/png": "[encoded data removed]",
      "text/plain": [
       "<Figure size 432x288 with 1 Axes>"
      ]
     },
     "metadata": {
      "needs_background": "light"
     },
     "output_type": "display_data"
    }
   ],
   "source": [
    "fig, ax = plt.subplots()\n",
    "ax.plot([1,2,3],[5,6,7],'k',lw=1, label='Tutrle')\n",
    "ax.set_ylabel('Velocity [m/s]')\n",
    "\n",
    "with open('plotPickle','wb') as file:\n",
    "    pickle.dump(ax,file)"
   ]
  },
  {
   "cell_type": "markdown",
   "metadata": {},
   "source": [
    "We saved the figure, turned off the computer and went to bed.\n",
    "Next day we realize we forgot to add an x-axis label, and a legend.\n",
    "We also want to add the rabbit data that I recieved from the zoo.\n",
    "Good thing I pickled the plot"
   ]
  },
  {
   "cell_type": "code",
   "execution_count": 22,
   "metadata": {},
   "outputs": [
    {
     "data": {
      "text/plain": [
       "<matplotlib.legend.Legend at 0x1d6b59fff28>"
      ]
     },
     "execution_count": 22,
     "metadata": {},
     "output_type": "execute_result"
    },
    {
     "data": {
      "image/png": "[encoded data removed]",
      "text/plain": [
       "<Figure size 432x288 with 1 Axes>"
      ]
     },
     "metadata": {
      "needs_background": "light"
     },
     "output_type": "display_data"
    }
   ],
   "source": [
    "with open('plotPickle','rb') as file:\n",
    "    newax = pickle.load(file)\n",
    "    \n",
    "newax.set_xlabel('Weight [kg]')\n",
    "newax.plot([1,2,3],[10,12,13],'r',lw=1,label='Rabbit')\n",
    "newax.legend()"
   ]
  },
  {
   "cell_type": "markdown",
   "metadata": {},
   "source": [
    "for numpy array there exist a numpy function(s) that efficiently saves and loads arrays"
   ]
  },
  {
   "cell_type": "code",
   "execution_count": 26,
   "metadata": {},
   "outputs": [],
   "source": [
    "someArray = np.random.rand(10)\n",
    "np.save('saveExample',someArray)"
   ]
  },
  {
   "cell_type": "code",
   "execution_count": null,
   "metadata": {},
   "outputs": [],
   "source": [
    "del someArray\n",
    "try:\n",
    "    print(someArray)\n",
    "except:\n",
    "    print(':O , the array is gone!')"
   ]
  },
  {
   "cell_type": "code",
   "execution_count": 30,
   "metadata": {},
   "outputs": [
    {
     "name": "stdout",
     "output_type": "stream",
     "text": [
      "[0.1447814  0.28769094 0.36679963 0.37530484 0.73428209 0.96089667\n",
      " 0.58046549 0.81833949 0.06907004 0.86535162]\n"
     ]
    }
   ],
   "source": [
    "loadedArray = np.load('saveExample.npy')\n",
    "print(loadedArray)"
   ]
  },
  {
   "cell_type": "markdown",
   "metadata": {},
   "source": [
    "# End"
   ]
  },
  {
   "cell_type": "markdown",
   "metadata": {},
   "source": [
    "### Answers for listcomp:"
   ]
  },
  {
   "cell_type": "code",
   "execution_count": 32,
   "metadata": {},
   "outputs": [],
   "source": [
    "teststring = 'Find all of the words in a string that are less than 4 letters'\n",
    "# (1)\n",
    "results = [num for num in range(1000) if num % 7 == 0]\n",
    "# (2)\n",
    "results = [num for num in range(1000) if '3' in list(str(num))]\n",
    "# (3)\n",
    "results = [character for character in teststring if character == ' ']\n",
    "len(results)\n",
    "# (4)\n",
    "vowels = ['a','e','i','o','u',' ']\n",
    "results = [letter for letter in teststring if letter.lower() not in vowels]\n",
    "# (5)\n",
    "results = [word for word in teststring.split() if len(word) < 4]\n",
    "# (6)\n",
    "results = [number for number in range(1,1001) if True in [True for divisor in range(2,10) if number % divisor == 0]] "
   ]
  },
  {
   "cell_type": "code",
   "execution_count": null,
   "metadata": {},
   "outputs": [],
   "source": []
  }
 ],
 "metadata": {
  "kernelspec": {
   "display_name": "Python 3",
   "language": "python",
   "name": "python3"
  },
  "language_info": {
   "codemirror_mode": {
    "name": "ipython",
    "version": 3
   },
   "file_extension": ".py",
   "mimetype": "text/x-python",
   "name": "python",
   "nbconvert_exporter": "python",
   "pygments_lexer": "ipython3",
   "version": "3.6.10"
  }
 },
 "nbformat": 4,
 "nbformat_minor": 4
}
